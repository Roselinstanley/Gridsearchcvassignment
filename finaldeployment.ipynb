{
 "cells": [
  {
   "cell_type": "code",
   "execution_count": 1,
   "id": "59fec8fa-98ab-42d4-82a3-6d29b493c771",
   "metadata": {},
   "outputs": [
    {
     "name": "stdin",
     "output_type": "stream",
     "text": [
      "Enter Age 27\n",
      "Enter BMI 34\n",
      "Enter no of Children 2\n",
      "Enter Sex_male 1\n",
      "Enter smoker_yes 1\n"
     ]
    },
    {
     "name": "stdout",
     "output_type": "stream",
     "text": [
      "Insurance Charge Predicted={} [36085.219]\n"
     ]
    },
    {
     "name": "stderr",
     "output_type": "stream",
     "text": [
      "C:\\Users\\Admin\\anaconda3\\Lib\\site-packages\\sklearn\\base.py:493: UserWarning: X does not have valid feature names, but DecisionTreeRegressor was fitted with feature names\n",
      "  warnings.warn(\n"
     ]
    }
   ],
   "source": [
    "import pickle\n",
    "l_model=pickle.load(open(\"final.sav\",\"rb\"))\n",
    "age=int(input(\"Enter Age\"))\n",
    "bmi=int(input(\"Enter BMI\"))\n",
    "children=int(input(\"Enter no of Children\"))\n",
    "sex=int(input(\"Enter Sex_male\"))\n",
    "smoker=int(input(\"Enter smoker_yes\"))\n",
    "pred=l_model.predict([[age,bmi,children,sex,smoker]])\n",
    "print(\"Insurance Charge Predicted={}\",pred)"
   ]
  },
  {
   "cell_type": "code",
   "execution_count": null,
   "id": "0079abeb-a085-4cd8-be9f-0e51b87d7e0c",
   "metadata": {},
   "outputs": [],
   "source": []
  }
 ],
 "metadata": {
  "kernelspec": {
   "display_name": "Python 3 (ipykernel)",
   "language": "python",
   "name": "python3"
  },
  "language_info": {
   "codemirror_mode": {
    "name": "ipython",
    "version": 3
   },
   "file_extension": ".py",
   "mimetype": "text/x-python",
   "name": "python",
   "nbconvert_exporter": "python",
   "pygments_lexer": "ipython3",
   "version": "3.12.4"
  }
 },
 "nbformat": 4,
 "nbformat_minor": 5
}
