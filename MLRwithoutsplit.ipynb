{
 "cells": [
  {
   "cell_type": "code",
   "execution_count": 5,
   "id": "70fe1502-8358-4f5b-ac62-eb520ec37cea",
   "metadata": {},
   "outputs": [],
   "source": [
    "import pandas as pd"
   ]
  },
  {
   "cell_type": "code",
   "execution_count": 7,
   "id": "1d359811-661a-4a38-a349-6492201f915e",
   "metadata": {},
   "outputs": [],
   "source": [
    "dataset=pd.read_csv(\"insurance_pre.csv\")"
   ]
  },
  {
   "cell_type": "code",
   "execution_count": 9,
   "id": "6a35dde3-5ca0-47db-ad87-c9af8b0a2e91",
   "metadata": {},
   "outputs": [],
   "source": [
    "dataset=pd.get_dummies(dataset,drop_first=True)"
   ]
  },
  {
   "cell_type": "code",
   "execution_count": 11,
   "id": "4b02209e-b636-47db-9b95-6d40d6c2c908",
   "metadata": {},
   "outputs": [],
   "source": [
    "independent=dataset[['age', 'bmi', 'children', 'sex_male', 'smoker_yes']]\n",
    "dependent=dataset[['charges']]"
   ]
  },
  {
   "cell_type": "code",
   "execution_count": 13,
   "id": "0d1b5a34-3185-4d0c-b804-fc4e976167d1",
   "metadata": {},
   "outputs": [
    {
     "name": "stdout",
     "output_type": "stream",
     "text": [
      "Fitting 5 folds for each of 16 candidates, totalling 80 fits\n"
     ]
    }
   ],
   "source": [
    "para_grid={'fit_intercept':[True,False],\n",
    "           'copy_X':[True,False],'n_jobs':[None,1],'positive':[False,True]}\n",
    "from sklearn.linear_model import LinearRegression\n",
    "from sklearn.model_selection import GridSearchCV\n",
    "grid=GridSearchCV(LinearRegression(),para_grid,refit=True,verbose=3,n_jobs=-1)\n",
    "grid.fit(independent,dependent)\n",
    "y_pred=grid.predict(independent)\n"
   ]
  },
  {
   "cell_type": "code",
   "execution_count": 15,
   "id": "818a2376-e046-46bf-ac11-18bb9ea216ba",
   "metadata": {},
   "outputs": [
    {
     "name": "stdout",
     "output_type": "stream",
     "text": [
      "The Rscore value of best parameters selected {'copy_X': True, 'fit_intercept': True, 'n_jobs': None, 'positive': True}: 0.749694530346479\n"
     ]
    }
   ],
   "source": [
    "from sklearn.metrics import r2_score\n",
    "rscore=r2_score(dependent,y_pred)\n",
    "print(\"The Rscore value of best parameters selected {}:\".format(grid.best_params_),rscore)"
   ]
  },
  {
   "cell_type": "code",
   "execution_count": null,
   "id": "a3ea382f-e04f-4b30-89cb-19ef47c8ca41",
   "metadata": {},
   "outputs": [],
   "source": []
  }
 ],
 "metadata": {
  "kernelspec": {
   "display_name": "Python 3 (ipykernel)",
   "language": "python",
   "name": "python3"
  },
  "language_info": {
   "codemirror_mode": {
    "name": "ipython",
    "version": 3
   },
   "file_extension": ".py",
   "mimetype": "text/x-python",
   "name": "python",
   "nbconvert_exporter": "python",
   "pygments_lexer": "ipython3",
   "version": "3.12.4"
  }
 },
 "nbformat": 4,
 "nbformat_minor": 5
}
